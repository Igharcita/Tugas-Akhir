{
 "cells": [
  {
   "cell_type": "code",
   "execution_count": null,
   "metadata": {},
   "outputs": [],
   "source": [
    "import time\n",
    "import numpy as np\n",
    "import pandas as pd\n",
    "from sklearn.model_selection import train_test_split\n",
    "from sklearn.preprocessing import StandardScaler, LabelEncoder\n",
    "from sklearn.ensemble import IsolationForest\n",
    "from sklearn.svm import OneClassSVM\n",
    "from sklearn.neighbors import LocalOutlierFactor\n",
    "\n",
    "df = pd.read_csv(\"rba-dataset.csv\", nrows=1000000) \n"
   ]
  },
  {
   "cell_type": "code",
   "execution_count": 6,
   "metadata": {},
   "outputs": [
    {
     "name": "stdout",
     "output_type": "stream",
     "text": [
      "▶️ Memulai Preprocessing Data...\n",
      "✅ Rata-rata waktu cleaning: 0.20 detik\n",
      "✅ Rata-rata waktu encoding: 0.17 detik\n",
      "✅ Rata-rata waktu normalisasi: 0.05 detik\n",
      "✅ Rata-rata waktu splitting: 0.00 detik\n"
     ]
    }
   ],
   "source": [
    "print(\"▶️ Memulai Preprocessing Data...\")\n",
    "cleaning_times = []\n",
    "encoding_times = []\n",
    "normalization_times = []\n",
    "splitting_times = []\n",
    "\n",
    "for _ in range(5):  # Loop untuk mendapatkan rataan waktu\n",
    "    # ✅ Cleaning: Menghapus nilai yang hilang\n",
    "    start_cleaning = time.time()\n",
    "    df_cleaned = df.dropna()\n",
    "    end_cleaning = time.time()\n",
    "    cleaning_times.append(end_cleaning - start_cleaning)\n",
    "\n",
    "    # ✅ Encoding: Mengonversi data kategorikal menjadi numerik\n",
    "    start_encoding = time.time()\n",
    "    label_encoders = {}\n",
    "    for col in df_cleaned.select_dtypes(include=['object']).columns:\n",
    "        le = LabelEncoder()\n",
    "        df_cleaned.loc[:, col] = le.fit_transform(df_cleaned[col])\n",
    "        label_encoders[col] = le\n",
    "    end_encoding = time.time()\n",
    "    encoding_times.append(end_encoding - start_encoding)\n",
    "\n",
    "    # ✅ Normalisasi: Standarisasi fitur numerik\n",
    "    start_normalization = time.time()\n",
    "    scaler = StandardScaler()\n",
    "    df_scaled = scaler.fit_transform(df_cleaned)\n",
    "    end_normalization = time.time()\n",
    "    normalization_times.append(end_normalization - start_normalization)\n",
    "\n",
    "    # ✅ Splitting dataset (Train-Test Split)\n",
    "    start_splitting = time.time()\n",
    "    X_train, X_test = train_test_split(df_scaled, test_size=0.2, random_state=42)\n",
    "    end_splitting = time.time()\n",
    "    splitting_times.append(end_splitting - start_splitting)\n",
    "\n",
    "# 📌 Rataan waktu untuk setiap tahap preprocessing\n",
    "avg_cleaning_time = np.mean(cleaning_times)\n",
    "avg_encoding_time = np.mean(encoding_times)\n",
    "avg_normalization_time = np.mean(normalization_times)\n",
    "avg_splitting_time = np.mean(splitting_times)\n",
    "\n",
    "print(f\"✅ Rata-rata waktu cleaning: {avg_cleaning_time:.2f} detik\")\n",
    "print(f\"✅ Rata-rata waktu encoding: {avg_encoding_time:.2f} detik\")\n",
    "print(f\"✅ Rata-rata waktu normalisasi: {avg_normalization_time:.2f} detik\")\n",
    "print(f\"✅ Rata-rata waktu splitting: {avg_splitting_time:.2f} detik\")"
   ]
  },
  {
   "cell_type": "code",
   "execution_count": 7,
   "metadata": {},
   "outputs": [
    {
     "name": "stdout",
     "output_type": "stream",
     "text": [
      "\n",
      "▶️ Memulai Pelatihan Model...\n",
      "✅ Isolation Forest - Rata-rata waktu training: 0.26 detik\n",
      "✅ Isolation Forest - Rata-rata waktu testing: 0.03 detik\n",
      "✅ One-Class SVM - Rata-rata waktu training: 11.74 detik\n",
      "✅ One-Class SVM - Rata-rata waktu testing: 1.88 detik\n",
      "✅ Local Outlier Factor - Rata-rata waktu training: 1.46 detik\n",
      "✅ Local Outlier Factor - Rata-rata waktu testing: 0.40 detik\n"
     ]
    }
   ],
   "source": [
    "print(\"\\n▶️ Memulai Pelatihan Model...\")\n",
    "\n",
    "model_training_times = {}\n",
    "model_testing_times = {}\n",
    "\n",
    "models = {\n",
    "    \"Isolation Forest\": IsolationForest(contamination=0.1, random_state=42),\n",
    "    \"One-Class SVM\": OneClassSVM(nu=0.1, kernel=\"rbf\"),\n",
    "    \"Local Outlier Factor\": LocalOutlierFactor(n_neighbors=20, novelty=True)\n",
    "}\n",
    "\n",
    "for model_name, model in models.items():\n",
    "    training_times = []\n",
    "    testing_times = []\n",
    "\n",
    "    for _ in range(5):  # Loop untuk mendapatkan rataan waktu\n",
    "        # ✅ Training\n",
    "        start_train = time.time()\n",
    "        if model_name == \"Local Outlier Factor\":\n",
    "            model.fit(X_train)  # LOF tidak memiliki metode 'fit' seperti model lainnya\n",
    "        else:\n",
    "            model.fit(X_train)\n",
    "        end_train = time.time()\n",
    "        training_times.append(end_train - start_train)\n",
    "\n",
    "        # ✅ Testing (Inference)\n",
    "        start_test = time.time()\n",
    "        if model_name == \"Local Outlier Factor\":\n",
    "            predictions = model.predict(X_test)\n",
    "        else:\n",
    "            predictions = model.predict(X_test)\n",
    "        end_test = time.time()\n",
    "        testing_times.append(end_test - start_test)\n",
    "\n",
    "    # 📌 Rataan waktu training & testing\n",
    "    model_training_times[model_name] = np.mean(training_times)\n",
    "    model_testing_times[model_name] = np.mean(testing_times)\n",
    "\n",
    "# Menampilkan hasil pelatihan dan evaluasi model\n",
    "for model_name in models.keys():\n",
    "    print(f\"✅ {model_name} - Rata-rata waktu training: {model_training_times[model_name]:.2f} detik\")\n",
    "    print(f\"✅ {model_name} - Rata-rata waktu testing: {model_testing_times[model_name]:.2f} detik\")\n"
   ]
  }
 ],
 "metadata": {
  "kernelspec": {
   "display_name": "Python 3",
   "language": "python",
   "name": "python3"
  },
  "language_info": {
   "codemirror_mode": {
    "name": "ipython",
    "version": 3
   },
   "file_extension": ".py",
   "mimetype": "text/x-python",
   "name": "python",
   "nbconvert_exporter": "python",
   "pygments_lexer": "ipython3",
   "version": "3.11.9"
  }
 },
 "nbformat": 4,
 "nbformat_minor": 2
}
